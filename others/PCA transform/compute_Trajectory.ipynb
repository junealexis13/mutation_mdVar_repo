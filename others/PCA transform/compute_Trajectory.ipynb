{
 "cells": [
  {
   "cell_type": "code",
   "execution_count": 6,
   "id": "85c874c1",
   "metadata": {},
   "outputs": [],
   "source": [
    "import MDAnalysis as mda\n",
    "import os, glob\n",
    "from os import path\n",
    "from MDAnalysis.analysis import align\n",
    "import numpy as np\n",
    "import pandas as pd\n",
    "import matplotlib.pyplot as plt\n",
    "from tqdm import tqdm\n",
    "from mpl_toolkits import mplot3d\n",
    "\n",
    "from sklearn.decomposition import PCA\n",
    "from sklearn import preprocessing"
   ]
  },
  {
   "cell_type": "code",
   "execution_count": 2,
   "id": "2d5ba7e5",
   "metadata": {},
   "outputs": [
    {
     "name": "stdout",
     "output_type": "stream",
     "text": [
      "Processing /Users/junealexissantos/Desktop/PRELIM_DATA/com_Pr2_N440K\n"
     ]
    },
    {
     "name": "stderr",
     "output_type": "stream",
     "text": [
      "100%|█████████████████████████████████████████████████████████████████████████████████████████████████████████████████████████████| 1001/1001 [00:08<00:00, 114.75it/s]\n"
     ]
    },
    {
     "name": "stdout",
     "output_type": "stream",
     "text": [
      "Transcribing dataframe...\n",
      "DONE!\n",
      "Processing /Users/junealexissantos/Desktop/PRELIM_DATA/com_Pr4_Q493R\n"
     ]
    },
    {
     "name": "stderr",
     "output_type": "stream",
     "text": [
      "100%|█████████████████████████████████████████████████████████████████████████████████████████████████████████████████████████████| 1001/1001 [00:08<00:00, 116.82it/s]\n"
     ]
    },
    {
     "name": "stdout",
     "output_type": "stream",
     "text": [
      "Transcribing dataframe...\n",
      "DONE!\n",
      "Processing /Users/junealexissantos/Desktop/PRELIM_DATA/com_Pr7_T478K\n"
     ]
    },
    {
     "name": "stderr",
     "output_type": "stream",
     "text": [
      "100%|█████████████████████████████████████████████████████████████████████████████████████████████████████████████████████████████| 1001/1001 [00:08<00:00, 115.01it/s]\n"
     ]
    },
    {
     "name": "stdout",
     "output_type": "stream",
     "text": [
      "Transcribing dataframe...\n",
      "DONE!\n",
      "Processing /Users/junealexissantos/Desktop/PRELIM_DATA/omic_WT_complex\n"
     ]
    },
    {
     "name": "stderr",
     "output_type": "stream",
     "text": [
      "100%|█████████████████████████████████████████████████████████████████████████████████████████████████████████████████████████████| 1001/1001 [00:08<00:00, 113.26it/s]\n"
     ]
    },
    {
     "name": "stdout",
     "output_type": "stream",
     "text": [
      "Transcribing dataframe...\n",
      "DONE!\n",
      "Processing /Users/junealexissantos/Desktop/PRELIM_DATA/com_Pr6_S477N\n"
     ]
    },
    {
     "name": "stderr",
     "output_type": "stream",
     "text": [
      "100%|█████████████████████████████████████████████████████████████████████████████████████████████████████████████████████████████| 1001/1001 [00:08<00:00, 114.91it/s]\n"
     ]
    },
    {
     "name": "stdout",
     "output_type": "stream",
     "text": [
      "Transcribing dataframe...\n",
      "DONE!\n",
      "Processing /Users/junealexissantos/Desktop/PRELIM_DATA/com_Pr5_Q498R\n"
     ]
    },
    {
     "name": "stderr",
     "output_type": "stream",
     "text": [
      "100%|█████████████████████████████████████████████████████████████████████████████████████████████████████████████████████████████| 1001/1001 [00:08<00:00, 116.83it/s]\n"
     ]
    },
    {
     "name": "stdout",
     "output_type": "stream",
     "text": [
      "Transcribing dataframe...\n",
      "DONE!\n",
      "Processing /Users/junealexissantos/Desktop/PRELIM_DATA/com_Pr3_N501Y\n"
     ]
    },
    {
     "name": "stderr",
     "output_type": "stream",
     "text": [
      "100%|█████████████████████████████████████████████████████████████████████████████████████████████████████████████████████████████| 1001/1001 [00:08<00:00, 115.19it/s]\n"
     ]
    },
    {
     "name": "stdout",
     "output_type": "stream",
     "text": [
      "Transcribing dataframe...\n",
      "DONE!\n"
     ]
    },
    {
     "name": "stderr",
     "output_type": "stream",
     "text": [
      "/Users/junealexissantos/anaconda3/envs/PCA/lib/python3.11/site-packages/MDAnalysis/coordinates/XDR.py:240: UserWarning: Reload offsets from trajectory\n",
      " ctime or size or n_atoms did not match\n",
      "  warnings.warn(\"Reload offsets from trajectory\\n \"\n"
     ]
    },
    {
     "name": "stdout",
     "output_type": "stream",
     "text": [
      "Processing /Users/junealexissantos/Desktop/PRELIM_DATA/alph_WT_complex\n"
     ]
    },
    {
     "name": "stderr",
     "output_type": "stream",
     "text": [
      "100%|█████████████████████████████████████████████████████████████████████████████████████████████████████████████████████████████| 1001/1001 [00:08<00:00, 117.25it/s]\n"
     ]
    },
    {
     "name": "stdout",
     "output_type": "stream",
     "text": [
      "Transcribing dataframe...\n",
      "DONE!\n",
      "Processing /Users/junealexissantos/Desktop/PRELIM_DATA/com_Pr1_E484A\n"
     ]
    },
    {
     "name": "stderr",
     "output_type": "stream",
     "text": [
      "100%|█████████████████████████████████████████████████████████████████████████████████████████████████████████████████████████████| 1001/1001 [00:08<00:00, 112.78it/s]\n"
     ]
    },
    {
     "name": "stdout",
     "output_type": "stream",
     "text": [
      "Transcribing dataframe...\n",
      "DONE!\n",
      "Processing /Users/junealexissantos/Desktop/PRELIM_DATA/com_Pr8_Y505H\n"
     ]
    },
    {
     "name": "stderr",
     "output_type": "stream",
     "text": [
      "100%|█████████████████████████████████████████████████████████████████████████████████████████████████████████████████████████████| 1001/1001 [00:08<00:00, 111.45it/s]\n"
     ]
    },
    {
     "name": "stdout",
     "output_type": "stream",
     "text": [
      "Transcribing dataframe...\n",
      "DONE!\n"
     ]
    }
   ],
   "source": [
    "dirpath = \"/Users/junealexissantos/Desktop/PRELIM_DATA\"\n",
    "directories = glob.glob(path.join(dirpath,\"*\"))\n",
    "\n",
    "\n",
    "for file in directories:\n",
    "\n",
    "    if os.path.isdir(file):\n",
    "        traj_container = {}\n",
    "        topol = glob.glob(path.join(dirpath,file,\"*min.gro\"))\n",
    "        traj = glob.glob(path.join(dirpath,file,\"*mdout_center.xtc\"))\n",
    "        u = mda.Universe(topol[0], traj[0])\n",
    "        residues = u.select_atoms('protein')\n",
    "        frame_index = 0\n",
    "        print(f\"Processing {file}\")\n",
    "        for r in tqdm(u.trajectory):\n",
    "            frame_index += 1\n",
    "            frame_data = {}\n",
    "            for residue in residues.residues:\n",
    "                for dims, coords in zip(list('xyz'), residue.atoms.center_of_mass()):\n",
    "                    frame_data[residue.resname + str(residue.resid) + f\"_{dims}\"] = coords\n",
    "            traj_container[frame_index] = frame_data\n",
    "        print(\"Transcribing dataframe...\")\n",
    "        df_traj = pd.DataFrame.from_dict(traj_container)\n",
    "        df_traj.to_csv(path.join(dirpath,os.path.basename(file)+\"_traj.csv\"))\n",
    "        print(\"DONE!\")"
   ]
  },
  {
   "cell_type": "code",
   "execution_count": 8,
   "id": "a6ff4ef4",
   "metadata": {},
   "outputs": [
    {
     "name": "stdout",
     "output_type": "stream",
     "text": [
      "compute_Trajectory.ipynb\n",
      ".ipynb_checkpoints\n"
     ]
    }
   ],
   "source": [
    "scaled = False\n",
    "for files in os.listdir(os.getcwd()):\n",
    "#     try:\n",
    "#         if files.endswith('.csv'):\n",
    "#             print(f'Processing {files}')\n",
    "#             df_read = pd.read_csv(files, index_col=0)\n",
    "#             df=df_read[:576]    #only consider 333-524 res (Lan et al., 2021)\n",
    "#             if scaled:\n",
    "#                 df_scaled = preprocessing.scaled(df)\n",
    "#             elif not scaled:\n",
    "#                 df_scaled = df  #Take \n",
    "#             pca = PCA()\n",
    "#             pca.fit(df_scaled)\n",
    "#             pca_data = pca.transform(df_scaled)\n",
    "#             per_var = np.round(pca.explained_variance_ratio_*100, decimals=1)\n",
    "#             PComp_labels = [\"PC\" + str(x) for x in range(1, len(per_var) + 1)]\n",
    "#             df_pca = pd.DataFrame(pca_data, index=df.index, columns=PComp_labels)\n",
    "\n",
    "#             #read PCA PLOTS from Alpha and Omicron\n",
    "#             alpha_PCA = os.path.join(\"df_pca\",\"alphWTcomplex.csv\")\n",
    "#             omic_PCA = os.path.join(\"df_pca\",\"omicWTcomplex.csv\")\n",
    "            \n",
    "#             df_alpha_pca = pd.read_csv(alpha_PCA, index_col=0)\n",
    "#             df_omic_pca = pd.read_csv(omic_PCA, index_col=0)\n",
    "            \n",
    "#             file_template = os.path.basename(files).split(\"_\")\n",
    "\n",
    "#             if not path.exists(os.path.join(\"df_pca\",f\"{''.join(file_template[0:3])}.csv\")):\n",
    "#                 df_pca.to_csv(os.path.join(\"df_pca\",f\"{''.join(file_template[0:3])}.csv\"))\n",
    "                \n",
    "#             fig, ax = plt.subplots(figsize=(12, 6), ncols=2, gridspec_kw={\"width_ratios\":[3,1]})\n",
    "# #             ax[1].bar(x=range(1, len(per_var)+1), height=per_var, tick_label=PComp_labels)\n",
    "# #             ax[1].set_ylabel(\"Explained Variance (%)\")\n",
    "# #             ax[1].set_xlabel(\"PC Components\")\n",
    "# #             ax[1].set_title(f\"Scree Plot for sample_{file_template[1]} \")\n",
    "# #             ax[1].set_xlim(0.5,15.5)\n",
    "# #             ax[1].tick_params(axis='x', which='major', labelrotation=90)\n",
    "            \n",
    "            \n",
    "#             ax[0] = plt.axes(projection =\"3d\")\n",
    "#             ax[0].scatter(df_alpha_pca.PC1,df_alpha_pca.PC2,df_alpha_pca.PC3, color='blue', s=1,label=\"Alpha_PCA\")\n",
    "#             ax[0].scatter(df_omic_pca.PC1,df_omic_pca.PC2,df_omic_pca.PC3, color='red' ,s=1, label=\"Omic_PCA\")\n",
    "#             ax[0].scatter(df_pca.PC1, df_pca.PC2, df_pca.PC3, color='green',\n",
    "#                           s=8,label=f\"sample_{file_template[1]} PCA\")\n",
    "#             ax[0].set_xlabel(\"PC1\", fontweight='bold')\n",
    "#             ax[0].set_ylabel(\"PC2\", fontweight='bold')\n",
    "# #             ax[0].set_zlabel(\"PC3\", fontweight='bold')\n",
    "#             ax[0].set_title(f\"PComponent Plot for sample_{file_template[1]} \")\n",
    "#             ax[0].tick_params(axis='x', which='major', labelrotation=90)\n",
    "#             ax[0].legend()\n",
    "\n",
    "#             plt.show()\n",
    "#     except IndexError:\n",
    "#         print(\"Error occured\")\n"
   ]
  },
  {
   "cell_type": "code",
   "execution_count": 6,
   "id": "db1acfd0",
   "metadata": {},
   "outputs": [],
   "source": [
    "\n",
    "dirpath = r\"D:/Documents/Documents/Rerun/MD_Output/\" \n",
    "directories = glob.glob(path.join(dirpath,\"*\"))\n",
    "\n",
    "\n",
    "for file in directories:\n",
    "    if os.path.isfile(file) and file.endswith(\".csv\"):\n",
    "        df_residue_positions = pd.read_csv(file, index_col=0)\n",
    "        residue_names = df_residue_positions.columns.tolist()\n",
    "        frames = df_residue_positions.index.tolist()\n",
    "        residue_positions = np.vstack(df_residue_positions.values)\n",
    "        \n",
    "        pca = PCA(n_components=2)  # Specify the number of principal components to retain\n",
    "        principal_components = pca.fit_transform(residue_positions)\n",
    "        \n",
    "        df_pca = pd.DataFrame(data=principal_components, columns=['PC1', 'PC2'], index=frames)\n",
    "        \n",
    "        import matplotlib.pyplot as plt\n",
    "\n",
    "        plt.scatter(df_pca['PC1'], df_pca['PC2'], s=1)\n",
    "        plt.xlabel('PC1')\n",
    "        plt.ylabel('PC2')\n",
    "        plt.title(path.basename(file).removesuffix(\"_traj.csv\"))\n",
    "\n",
    "        plt.show()\n",
    "        "
   ]
  },
  {
   "cell_type": "code",
   "execution_count": null,
   "id": "1c325ca5",
   "metadata": {},
   "outputs": [],
   "source": [
    "a = '[59.89829343 19.27232405 35.92151287]'\n",
    "b = a.strip(\"[]\")\n",
    "print(np.fromstring(b,dtype = float, sep = ' '))\n"
   ]
  }
 ],
 "metadata": {
  "kernelspec": {
   "display_name": "Python 3 (ipykernel)",
   "language": "python",
   "name": "python3"
  },
  "language_info": {
   "codemirror_mode": {
    "name": "ipython",
    "version": 3
   },
   "file_extension": ".py",
   "mimetype": "text/x-python",
   "name": "python",
   "nbconvert_exporter": "python",
   "pygments_lexer": "ipython3",
   "version": "3.11.6"
  }
 },
 "nbformat": 4,
 "nbformat_minor": 5
}
