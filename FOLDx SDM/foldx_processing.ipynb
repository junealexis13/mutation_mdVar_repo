{
 "cells": [
  {
   "cell_type": "code",
   "execution_count": 155,
   "id": "d30e5345",
   "metadata": {},
   "outputs": [],
   "source": [
    "import pandas as pd\n",
    "import matplotlib.pyplot as plt\n",
    "import glob\n",
    "import os\n",
    "import shutil\n",
    "from datetime import datetime\n",
    "from tabulate import tabulate"
   ]
  },
  {
   "cell_type": "code",
   "execution_count": 19,
   "id": "59813dd5",
   "metadata": {},
   "outputs": [],
   "source": [
    "dirs = r'D:\\Documents\\Datasets\\Output\\FoldX\\1.1.4Output_Energies'"
   ]
  },
  {
   "cell_type": "code",
   "execution_count": 167,
   "id": "a0eb45d5",
   "metadata": {},
   "outputs": [
    {
     "data": {
      "text/plain": [
       "['D:\\\\Documents\\\\Datasets\\\\Output\\\\FoldX\\\\1.1.4Output_Energies\\\\C478K\\\\Dif_C478KMMod_omicron_b11529_7cn8_RBD.fxout',\n",
       " 'D:\\\\Documents\\\\Datasets\\\\Output\\\\FoldX\\\\1.1.4Output_Energies\\\\D440K\\\\Dif_D440KMMod_omicron_b11529_7cn8_RBD.fxout',\n",
       " 'D:\\\\Documents\\\\Datasets\\\\Output\\\\FoldX\\\\1.1.4Output_Energies\\\\L484A\\\\Dif_L484AMMod_omicron_b11529_7cn8_RBD.fxout',\n",
       " 'D:\\\\Documents\\\\Datasets\\\\Output\\\\FoldX\\\\1.1.4Output_Energies\\\\P477N\\\\Dif_P477NMMod_omicron_b11529_7cn8_RBD.fxout',\n",
       " 'D:\\\\Documents\\\\Datasets\\\\Output\\\\FoldX\\\\1.1.4Output_Energies\\\\P505H\\\\Dif_P505HMMod_omicron_b11529_7cn8_RBD.fxout',\n",
       " 'D:\\\\Documents\\\\Datasets\\\\Output\\\\FoldX\\\\1.1.4Output_Energies\\\\T498R\\\\Dif_T498RMMod_omicron_b11529_7cn8_RBD.fxout',\n",
       " 'D:\\\\Documents\\\\Datasets\\\\Output\\\\FoldX\\\\1.1.4Output_Energies\\\\V501Y\\\\Dif_V501YMMod_omicron_b11529_7cn8_RBD.fxout',\n",
       " 'D:\\\\Documents\\\\Datasets\\\\Output\\\\FoldX\\\\1.1.4Output_Energies\\\\Y493R\\\\Dif_Y493RMMod_omicron_b11529_7cn8_RBD.fxout']"
      ]
     },
     "execution_count": 167,
     "metadata": {},
     "output_type": "execute_result"
    }
   ],
   "source": [
    "#Globbing Energy Diffs and other parameters\n",
    "dif = glob.glob(os.path.join(dirs,'*','Dif*.fxout'), recursive=True) #shows difference between WT and mutant counterpart\n",
    "raw = glob.glob(os.path.join(dirs,'*','Raw*.fxout'), recursive=True) #shows raw energy decompositions\n",
    "avg = glob.glob(os.path.join(dirs,'*','Average*.fxout'), recursive=True) #avg energy between runs\n",
    "dif"
   ]
  },
  {
   "cell_type": "code",
   "execution_count": 124,
   "id": "ca4c872c",
   "metadata": {},
   "outputs": [
    {
     "name": "stdout",
     "output_type": "stream",
     "text": [
      "Done!:D:\\Documents\\Datasets\\Output\\FoldX\\1.1.4Output_Energies\\C478K\\Dif_C478KMMod_omicron_b11529_7cn8_RBD.fxout\n",
      "Done!:D:\\Documents\\Datasets\\Output\\FoldX\\1.1.4Output_Energies\\D440K\\Dif_D440KMMod_omicron_b11529_7cn8_RBD.fxout\n",
      "Done!:D:\\Documents\\Datasets\\Output\\FoldX\\1.1.4Output_Energies\\L484A\\Dif_L484AMMod_omicron_b11529_7cn8_RBD.fxout\n",
      "Done!:D:\\Documents\\Datasets\\Output\\FoldX\\1.1.4Output_Energies\\P477N\\Dif_P477NMMod_omicron_b11529_7cn8_RBD.fxout\n",
      "Done!:D:\\Documents\\Datasets\\Output\\FoldX\\1.1.4Output_Energies\\P505H\\Dif_P505HMMod_omicron_b11529_7cn8_RBD.fxout\n",
      "Done!:D:\\Documents\\Datasets\\Output\\FoldX\\1.1.4Output_Energies\\T498R\\Dif_T498RMMod_omicron_b11529_7cn8_RBD.fxout\n",
      "Done!:D:\\Documents\\Datasets\\Output\\FoldX\\1.1.4Output_Energies\\V501Y\\Dif_V501YMMod_omicron_b11529_7cn8_RBD.fxout\n",
      "Done!:D:\\Documents\\Datasets\\Output\\FoldX\\1.1.4Output_Energies\\Y493R\\Dif_Y493RMMod_omicron_b11529_7cn8_RBD.fxout\n"
     ]
    }
   ],
   "source": [
    "#converting the FXOUT file into a pandas readable format \n",
    "for files in dif:\n",
    "    f = open(files,\"r\")\n",
    "    create_file = open(os.path.join(os.path.dirname(files),f\"{os.path.basename(files).replace('.fxout','.tsv')}\"),\"a\")\n",
    "    for line in f.readlines()[8:]:\n",
    "        create_file.write(line)\n",
    "    create_file.close()\n",
    "    f.close()\n",
    "    print('Done!', files, sep=':')"
   ]
  },
  {
   "cell_type": "code",
   "execution_count": 121,
   "id": "2ed370ad",
   "metadata": {},
   "outputs": [],
   "source": [
    "#Deleting the files (first run encountered an error)\n",
    "# all_tsv = glob.glob(os.path.join(dirs, \"*\",\"*.tsv\"), recursive = True)\n",
    "# for file in all_tsv:\n",
    "#     os.remove(file)"
   ]
  },
  {
   "cell_type": "code",
   "execution_count": 132,
   "id": "3de1f40e",
   "metadata": {
    "scrolled": true
   },
   "outputs": [],
   "source": [
    "#Loading all TSV files created and save those in a txt file. Please check the designated file (flist and fsum) in the folder\n",
    "out = glob.glob(os.path.join(dirs, \"*\",\"Dif*.tsv\"), recursive = True)\n",
    "mlist = []\n",
    "\n",
    "for files in out:\n",
    "    df = pd.read_csv(files, sep='\\t').sort_values(by=['total energy'], ascending=True)\n",
    "    mlist.append(df.iloc[0].loc['Pdb'])\n",
    "    \n",
    "    #save a list of all protein information with least energy changes\n",
    "    flist = open(os.path.join(dirs, 'flist_sorted_out.txt'),'a')\n",
    "    fsum = open(os.path.join(dirs, 'fsum_sorted_out.txt'),'a')\n",
    "\n",
    "    flist.write(str(df.iloc[0]))\n",
    "    flist.write(f\"\\n{50*'-'}\\n\")\n",
    "\n",
    "    fsum.write(f'\\nSUMMARY Sorted: Energy Differences between Generated Mutant Model and Template ({os.path.basename(files)})\\n')\n",
    "    fsum.write(f\"Introduced mutation(s): {os.path.basename(files).split('_')[1].replace('MMod','')}\\n\")\n",
    "    fsum.write(tabulate(df, headers='keys', tablefmt='psql'))\n",
    "    fsum.write('\\n')\n",
    "\n",
    "flist.write('\\n----------END----------\\n')    \n",
    "flist.write(str(datetime.now()))\n",
    "flist.write(\"\\nRun by: JAS\")\n",
    "flist.close()\n",
    "\n",
    "fsum.write('\\n----------END----------\\n')    \n",
    "fsum.write(str(datetime.now()))\n",
    "fsum.write(\"\\nRun by: JAS\")\n",
    "fsum.close()"
   ]
  },
  {
   "cell_type": "code",
   "execution_count": 166,
   "id": "d9d83671",
   "metadata": {},
   "outputs": [],
   "source": [
    "#saving the most energy favored output in foldX\n",
    "root = r\"D:\\Documents\\Datasets\\Output\\FoldX\"\n",
    "folders = glob.glob(os.path.join(root,'1.1.3*','*[!.txt]'),recursive=True)\n",
    "destination_folder = os.path.join(root, '1.1.5Prot_List_Output')\n",
    "if not os.path.exists(destination_folder):\n",
    "    os.mkdir(destination_folder)\n",
    "for fs, prots in zip(folders, mlist):\n",
    "    #copy and rename\n",
    "    shutil.copy(os.path.join(fs, prots), destination_folder)\n",
    "    os.rename(os.path.join(destination_folder, prots),\n",
    "              os.path.join(destination_folder,prots.replace('7cn8',os.path.basename(fs))))"
   ]
  }
 ],
 "metadata": {
  "kernelspec": {
   "display_name": "Python 3.10.4 ('junnie_env')",
   "language": "python",
   "name": "python3"
  },
  "language_info": {
   "codemirror_mode": {
    "name": "ipython",
    "version": 3
   },
   "file_extension": ".py",
   "mimetype": "text/x-python",
   "name": "python",
   "nbconvert_exporter": "python",
   "pygments_lexer": "ipython3",
   "version": "3.10.4"
  },
  "vscode": {
   "interpreter": {
    "hash": "5a2459a6aa8a1da821adb4b78125da80feee497c827e492841d4480f96e2ae32"
   }
  }
 },
 "nbformat": 4,
 "nbformat_minor": 5
}
